{
  "nbformat": 4,
  "nbformat_minor": 0,
  "metadata": {
    "colab": {
      "provenance": [],
      "include_colab_link": true
    },
    "kernelspec": {
      "name": "python3",
      "display_name": "Python 3"
    }
  },
  "cells": [
    {
      "cell_type": "markdown",
      "metadata": {
        "id": "view-in-github",
        "colab_type": "text"
      },
      "source": [
        "<a href=\"https://colab.research.google.com/github/jlule/Machine_learning_Module_3/blob/main/house_price_predictions_module_3_housing.ipynb\" target=\"_parent\"><img src=\"https://colab.research.google.com/assets/colab-badge.svg\" alt=\"Open In Colab\"/></a>"
      ]
    },
    {
      "cell_type": "code",
      "metadata": {
        "id": "mA0HPVmIBT4C"
      },
      "source": [
        "import pandas as pd\n",
        "import seaborn as sns\n",
        "\n",
        "housing = pd.read_csv('https://raw.githubusercontent.com/byui-cse/cse450-course/master/data/housing.csv')"
      ],
      "execution_count": 1,
      "outputs": []
    },
    {
      "cell_type": "code",
      "metadata": {
        "id": "StiU5QcPPxqQ",
        "colab": {
          "base_uri": "https://localhost:8080/",
          "height": 300
        },
        "outputId": "bcc818df-af50-4845-a802-86a34e824c04"
      },
      "source": [
        "housing.head()"
      ],
      "execution_count": 2,
      "outputs": [
        {
          "output_type": "execute_result",
          "data": {
            "text/plain": [
              "           id             date  bedrooms  bathrooms  sqft_living  sqft_lot  \\\n",
              "0  1565930130  20141104T000000         4       3.25         3760      4675   \n",
              "1  3279000420  20150115T000000         3       1.75         1460      7800   \n",
              "2   194000575  20141014T000000         4       1.00         1340      5800   \n",
              "3  2115510160  20141208T000000         3       1.75         1440      8050   \n",
              "4  7522500005  20140815T000000         2       1.50         1780      4750   \n",
              "\n",
              "   floors  waterfront  view  condition  ...  sqft_above  sqft_basement  \\\n",
              "0     2.0           0     0          3  ...        2740           1020   \n",
              "1     1.0           0     0          2  ...        1040            420   \n",
              "2     1.5           0     2          3  ...        1340              0   \n",
              "3     1.0           0     0          3  ...        1440              0   \n",
              "4     1.0           0     0          4  ...        1080            700   \n",
              "\n",
              "   yr_built  yr_renovated  zipcode      lat     long  sqft_living15  \\\n",
              "0      2007             0    98038  47.3862 -122.048           3280   \n",
              "1      1979             0    98023  47.3035 -122.382           1310   \n",
              "2      1914             0    98116  47.5658 -122.389           1900   \n",
              "3      1985             0    98023  47.3187 -122.390           1790   \n",
              "4      1947             0    98117  47.6859 -122.395           1690   \n",
              "\n",
              "   sqft_lot15     price  \n",
              "0        4033  429900.0  \n",
              "1        7865  233000.0  \n",
              "2        5800  455000.0  \n",
              "3        7488  258950.0  \n",
              "4        5962  555000.0  \n",
              "\n",
              "[5 rows x 21 columns]"
            ],
            "text/html": [
              "\n",
              "  <div id=\"df-6518889d-a167-45f6-a302-fc775d1b611c\">\n",
              "    <div class=\"colab-df-container\">\n",
              "      <div>\n",
              "<style scoped>\n",
              "    .dataframe tbody tr th:only-of-type {\n",
              "        vertical-align: middle;\n",
              "    }\n",
              "\n",
              "    .dataframe tbody tr th {\n",
              "        vertical-align: top;\n",
              "    }\n",
              "\n",
              "    .dataframe thead th {\n",
              "        text-align: right;\n",
              "    }\n",
              "</style>\n",
              "<table border=\"1\" class=\"dataframe\">\n",
              "  <thead>\n",
              "    <tr style=\"text-align: right;\">\n",
              "      <th></th>\n",
              "      <th>id</th>\n",
              "      <th>date</th>\n",
              "      <th>bedrooms</th>\n",
              "      <th>bathrooms</th>\n",
              "      <th>sqft_living</th>\n",
              "      <th>sqft_lot</th>\n",
              "      <th>floors</th>\n",
              "      <th>waterfront</th>\n",
              "      <th>view</th>\n",
              "      <th>condition</th>\n",
              "      <th>...</th>\n",
              "      <th>sqft_above</th>\n",
              "      <th>sqft_basement</th>\n",
              "      <th>yr_built</th>\n",
              "      <th>yr_renovated</th>\n",
              "      <th>zipcode</th>\n",
              "      <th>lat</th>\n",
              "      <th>long</th>\n",
              "      <th>sqft_living15</th>\n",
              "      <th>sqft_lot15</th>\n",
              "      <th>price</th>\n",
              "    </tr>\n",
              "  </thead>\n",
              "  <tbody>\n",
              "    <tr>\n",
              "      <th>0</th>\n",
              "      <td>1565930130</td>\n",
              "      <td>20141104T000000</td>\n",
              "      <td>4</td>\n",
              "      <td>3.25</td>\n",
              "      <td>3760</td>\n",
              "      <td>4675</td>\n",
              "      <td>2.0</td>\n",
              "      <td>0</td>\n",
              "      <td>0</td>\n",
              "      <td>3</td>\n",
              "      <td>...</td>\n",
              "      <td>2740</td>\n",
              "      <td>1020</td>\n",
              "      <td>2007</td>\n",
              "      <td>0</td>\n",
              "      <td>98038</td>\n",
              "      <td>47.3862</td>\n",
              "      <td>-122.048</td>\n",
              "      <td>3280</td>\n",
              "      <td>4033</td>\n",
              "      <td>429900.0</td>\n",
              "    </tr>\n",
              "    <tr>\n",
              "      <th>1</th>\n",
              "      <td>3279000420</td>\n",
              "      <td>20150115T000000</td>\n",
              "      <td>3</td>\n",
              "      <td>1.75</td>\n",
              "      <td>1460</td>\n",
              "      <td>7800</td>\n",
              "      <td>1.0</td>\n",
              "      <td>0</td>\n",
              "      <td>0</td>\n",
              "      <td>2</td>\n",
              "      <td>...</td>\n",
              "      <td>1040</td>\n",
              "      <td>420</td>\n",
              "      <td>1979</td>\n",
              "      <td>0</td>\n",
              "      <td>98023</td>\n",
              "      <td>47.3035</td>\n",
              "      <td>-122.382</td>\n",
              "      <td>1310</td>\n",
              "      <td>7865</td>\n",
              "      <td>233000.0</td>\n",
              "    </tr>\n",
              "    <tr>\n",
              "      <th>2</th>\n",
              "      <td>194000575</td>\n",
              "      <td>20141014T000000</td>\n",
              "      <td>4</td>\n",
              "      <td>1.00</td>\n",
              "      <td>1340</td>\n",
              "      <td>5800</td>\n",
              "      <td>1.5</td>\n",
              "      <td>0</td>\n",
              "      <td>2</td>\n",
              "      <td>3</td>\n",
              "      <td>...</td>\n",
              "      <td>1340</td>\n",
              "      <td>0</td>\n",
              "      <td>1914</td>\n",
              "      <td>0</td>\n",
              "      <td>98116</td>\n",
              "      <td>47.5658</td>\n",
              "      <td>-122.389</td>\n",
              "      <td>1900</td>\n",
              "      <td>5800</td>\n",
              "      <td>455000.0</td>\n",
              "    </tr>\n",
              "    <tr>\n",
              "      <th>3</th>\n",
              "      <td>2115510160</td>\n",
              "      <td>20141208T000000</td>\n",
              "      <td>3</td>\n",
              "      <td>1.75</td>\n",
              "      <td>1440</td>\n",
              "      <td>8050</td>\n",
              "      <td>1.0</td>\n",
              "      <td>0</td>\n",
              "      <td>0</td>\n",
              "      <td>3</td>\n",
              "      <td>...</td>\n",
              "      <td>1440</td>\n",
              "      <td>0</td>\n",
              "      <td>1985</td>\n",
              "      <td>0</td>\n",
              "      <td>98023</td>\n",
              "      <td>47.3187</td>\n",
              "      <td>-122.390</td>\n",
              "      <td>1790</td>\n",
              "      <td>7488</td>\n",
              "      <td>258950.0</td>\n",
              "    </tr>\n",
              "    <tr>\n",
              "      <th>4</th>\n",
              "      <td>7522500005</td>\n",
              "      <td>20140815T000000</td>\n",
              "      <td>2</td>\n",
              "      <td>1.50</td>\n",
              "      <td>1780</td>\n",
              "      <td>4750</td>\n",
              "      <td>1.0</td>\n",
              "      <td>0</td>\n",
              "      <td>0</td>\n",
              "      <td>4</td>\n",
              "      <td>...</td>\n",
              "      <td>1080</td>\n",
              "      <td>700</td>\n",
              "      <td>1947</td>\n",
              "      <td>0</td>\n",
              "      <td>98117</td>\n",
              "      <td>47.6859</td>\n",
              "      <td>-122.395</td>\n",
              "      <td>1690</td>\n",
              "      <td>5962</td>\n",
              "      <td>555000.0</td>\n",
              "    </tr>\n",
              "  </tbody>\n",
              "</table>\n",
              "<p>5 rows × 21 columns</p>\n",
              "</div>\n",
              "      <button class=\"colab-df-convert\" onclick=\"convertToInteractive('df-6518889d-a167-45f6-a302-fc775d1b611c')\"\n",
              "              title=\"Convert this dataframe to an interactive table.\"\n",
              "              style=\"display:none;\">\n",
              "        \n",
              "  <svg xmlns=\"http://www.w3.org/2000/svg\" height=\"24px\"viewBox=\"0 0 24 24\"\n",
              "       width=\"24px\">\n",
              "    <path d=\"M0 0h24v24H0V0z\" fill=\"none\"/>\n",
              "    <path d=\"M18.56 5.44l.94 2.06.94-2.06 2.06-.94-2.06-.94-.94-2.06-.94 2.06-2.06.94zm-11 1L8.5 8.5l.94-2.06 2.06-.94-2.06-.94L8.5 2.5l-.94 2.06-2.06.94zm10 10l.94 2.06.94-2.06 2.06-.94-2.06-.94-.94-2.06-.94 2.06-2.06.94z\"/><path d=\"M17.41 7.96l-1.37-1.37c-.4-.4-.92-.59-1.43-.59-.52 0-1.04.2-1.43.59L10.3 9.45l-7.72 7.72c-.78.78-.78 2.05 0 2.83L4 21.41c.39.39.9.59 1.41.59.51 0 1.02-.2 1.41-.59l7.78-7.78 2.81-2.81c.8-.78.8-2.07 0-2.86zM5.41 20L4 18.59l7.72-7.72 1.47 1.35L5.41 20z\"/>\n",
              "  </svg>\n",
              "      </button>\n",
              "      \n",
              "  <style>\n",
              "    .colab-df-container {\n",
              "      display:flex;\n",
              "      flex-wrap:wrap;\n",
              "      gap: 12px;\n",
              "    }\n",
              "\n",
              "    .colab-df-convert {\n",
              "      background-color: #E8F0FE;\n",
              "      border: none;\n",
              "      border-radius: 50%;\n",
              "      cursor: pointer;\n",
              "      display: none;\n",
              "      fill: #1967D2;\n",
              "      height: 32px;\n",
              "      padding: 0 0 0 0;\n",
              "      width: 32px;\n",
              "    }\n",
              "\n",
              "    .colab-df-convert:hover {\n",
              "      background-color: #E2EBFA;\n",
              "      box-shadow: 0px 1px 2px rgba(60, 64, 67, 0.3), 0px 1px 3px 1px rgba(60, 64, 67, 0.15);\n",
              "      fill: #174EA6;\n",
              "    }\n",
              "\n",
              "    [theme=dark] .colab-df-convert {\n",
              "      background-color: #3B4455;\n",
              "      fill: #D2E3FC;\n",
              "    }\n",
              "\n",
              "    [theme=dark] .colab-df-convert:hover {\n",
              "      background-color: #434B5C;\n",
              "      box-shadow: 0px 1px 3px 1px rgba(0, 0, 0, 0.15);\n",
              "      filter: drop-shadow(0px 1px 2px rgba(0, 0, 0, 0.3));\n",
              "      fill: #FFFFFF;\n",
              "    }\n",
              "  </style>\n",
              "\n",
              "      <script>\n",
              "        const buttonEl =\n",
              "          document.querySelector('#df-6518889d-a167-45f6-a302-fc775d1b611c button.colab-df-convert');\n",
              "        buttonEl.style.display =\n",
              "          google.colab.kernel.accessAllowed ? 'block' : 'none';\n",
              "\n",
              "        async function convertToInteractive(key) {\n",
              "          const element = document.querySelector('#df-6518889d-a167-45f6-a302-fc775d1b611c');\n",
              "          const dataTable =\n",
              "            await google.colab.kernel.invokeFunction('convertToInteractive',\n",
              "                                                     [key], {});\n",
              "          if (!dataTable) return;\n",
              "\n",
              "          const docLinkHtml = 'Like what you see? Visit the ' +\n",
              "            '<a target=\"_blank\" href=https://colab.research.google.com/notebooks/data_table.ipynb>data table notebook</a>'\n",
              "            + ' to learn more about interactive tables.';\n",
              "          element.innerHTML = '';\n",
              "          dataTable['output_type'] = 'display_data';\n",
              "          await google.colab.output.renderOutput(dataTable, element);\n",
              "          const docLink = document.createElement('div');\n",
              "          docLink.innerHTML = docLinkHtml;\n",
              "          element.appendChild(docLink);\n",
              "        }\n",
              "      </script>\n",
              "    </div>\n",
              "  </div>\n",
              "  "
            ]
          },
          "metadata": {},
          "execution_count": 2
        }
      ]
    },
    {
      "cell_type": "code",
      "metadata": {
        "id": "ALLMN63FPyEQ",
        "colab": {
          "base_uri": "https://localhost:8080/"
        },
        "outputId": "548fd1db-dd59-48fe-9b03-b014ec2d174a"
      },
      "source": [
        "housing.info()"
      ],
      "execution_count": 3,
      "outputs": [
        {
          "output_type": "stream",
          "name": "stdout",
          "text": [
            "<class 'pandas.core.frame.DataFrame'>\n",
            "RangeIndex: 20000 entries, 0 to 19999\n",
            "Data columns (total 21 columns):\n",
            " #   Column         Non-Null Count  Dtype  \n",
            "---  ------         --------------  -----  \n",
            " 0   id             20000 non-null  int64  \n",
            " 1   date           20000 non-null  object \n",
            " 2   bedrooms       20000 non-null  int64  \n",
            " 3   bathrooms      20000 non-null  float64\n",
            " 4   sqft_living    20000 non-null  int64  \n",
            " 5   sqft_lot       20000 non-null  int64  \n",
            " 6   floors         20000 non-null  float64\n",
            " 7   waterfront     20000 non-null  int64  \n",
            " 8   view           20000 non-null  int64  \n",
            " 9   condition      20000 non-null  int64  \n",
            " 10  grade          20000 non-null  int64  \n",
            " 11  sqft_above     20000 non-null  int64  \n",
            " 12  sqft_basement  20000 non-null  int64  \n",
            " 13  yr_built       20000 non-null  int64  \n",
            " 14  yr_renovated   20000 non-null  int64  \n",
            " 15  zipcode        20000 non-null  int64  \n",
            " 16  lat            20000 non-null  float64\n",
            " 17  long           20000 non-null  float64\n",
            " 18  sqft_living15  20000 non-null  int64  \n",
            " 19  sqft_lot15     20000 non-null  int64  \n",
            " 20  price          20000 non-null  float64\n",
            "dtypes: float64(5), int64(15), object(1)\n",
            "memory usage: 3.2+ MB\n"
          ]
        }
      ]
    },
    {
      "cell_type": "markdown",
      "source": [
        "# Data Exploration"
      ],
      "metadata": {
        "id": "d2e4ff85Qsdh"
      }
    },
    {
      "cell_type": "code",
      "source": [
        "# Grade is relative/subjective to each person.\n",
        "housing['grade'].groupby(housing['price']).value_counts()"
      ],
      "metadata": {
        "colab": {
          "base_uri": "https://localhost:8080/"
        },
        "id": "yglF6WqIRF3p",
        "outputId": "eecce6d7-2759-4e70-bcb2-594692828f0e"
      },
      "execution_count": 4,
      "outputs": [
        {
          "output_type": "execute_result",
          "data": {
            "text/plain": [
              "price      grade\n",
              "75000.0    3        1\n",
              "78000.0    5        1\n",
              "80000.0    4        1\n",
              "81000.0    5        1\n",
              "82000.0    6        1\n",
              "                   ..\n",
              "5350000.0  12       1\n",
              "5570000.0  13       1\n",
              "6885000.0  13       1\n",
              "7062500.0  11       1\n",
              "7700000.0  13       1\n",
              "Name: grade, Length: 6374, dtype: int64"
            ]
          },
          "metadata": {},
          "execution_count": 4
        }
      ]
    },
    {
      "cell_type": "code",
      "source": [
        "housing['price'].groupby(housing['bedrooms']).value_counts(normalize=True)"
      ],
      "metadata": {
        "colab": {
          "base_uri": "https://localhost:8080/"
        },
        "id": "fUGAgQ62RiZ1",
        "outputId": "4ae8aa79-8f66-4970-f6dd-7b221617a425"
      },
      "execution_count": 5,
      "outputs": [
        {
          "output_type": "execute_result",
          "data": {
            "text/plain": [
              "bedrooms  price    \n",
              "0         139950.0     0.090909\n",
              "          142000.0     0.090909\n",
              "          228000.0     0.090909\n",
              "          235000.0     0.090909\n",
              "          240000.0     0.090909\n",
              "                         ...   \n",
              "10        650000.0     0.333333\n",
              "          660000.0     0.333333\n",
              "          1148000.0    0.333333\n",
              "11        520000.0     1.000000\n",
              "33        640000.0     1.000000\n",
              "Name: price, Length: 6497, dtype: float64"
            ]
          },
          "metadata": {},
          "execution_count": 5
        }
      ]
    },
    {
      "cell_type": "code",
      "source": [
        "# Seems to have an outlier or two under this field.\n",
        "housing['bedrooms'].value_counts()\n"
      ],
      "metadata": {
        "colab": {
          "base_uri": "https://localhost:8080/"
        },
        "id": "G5FJS6rFjr5D",
        "outputId": "6eb3c3d9-97ef-49b0-97ff-282473147899"
      },
      "execution_count": 6,
      "outputs": [
        {
          "output_type": "execute_result",
          "data": {
            "text/plain": [
              "3     9101\n",
              "4     6354\n",
              "2     2567\n",
              "5     1478\n",
              "6      251\n",
              "1      179\n",
              "7       36\n",
              "8       12\n",
              "0       11\n",
              "9        6\n",
              "10       3\n",
              "11       1\n",
              "33       1\n",
              "Name: bedrooms, dtype: int64"
            ]
          },
          "metadata": {},
          "execution_count": 6
        }
      ]
    },
    {
      "cell_type": "code",
      "source": [
        "ten = housing[housing['bedrooms'] == 11]\n",
        "\n",
        "ten"
      ],
      "metadata": {
        "colab": {
          "base_uri": "https://localhost:8080/",
          "height": 174
        },
        "id": "Ju-iIoAEkZ9g",
        "outputId": "6db34891-26b3-4744-e0c8-f3b984be84ad"
      },
      "execution_count": 7,
      "outputs": [
        {
          "output_type": "execute_result",
          "data": {
            "text/plain": [
              "             id             date  bedrooms  bathrooms  sqft_living  sqft_lot  \\\n",
              "743  1773100755  20140821T000000        11        3.0         3000      4960   \n",
              "\n",
              "     floors  waterfront  view  condition  ...  sqft_above  sqft_basement  \\\n",
              "743     2.0           0     0          3  ...        2400            600   \n",
              "\n",
              "     yr_built  yr_renovated  zipcode     lat     long  sqft_living15  \\\n",
              "743      1918          1999    98106  47.556 -122.363           1420   \n",
              "\n",
              "     sqft_lot15     price  \n",
              "743        4960  520000.0  \n",
              "\n",
              "[1 rows x 21 columns]"
            ],
            "text/html": [
              "\n",
              "  <div id=\"df-6f0d5576-8c42-4084-ad29-6b40b34d813d\">\n",
              "    <div class=\"colab-df-container\">\n",
              "      <div>\n",
              "<style scoped>\n",
              "    .dataframe tbody tr th:only-of-type {\n",
              "        vertical-align: middle;\n",
              "    }\n",
              "\n",
              "    .dataframe tbody tr th {\n",
              "        vertical-align: top;\n",
              "    }\n",
              "\n",
              "    .dataframe thead th {\n",
              "        text-align: right;\n",
              "    }\n",
              "</style>\n",
              "<table border=\"1\" class=\"dataframe\">\n",
              "  <thead>\n",
              "    <tr style=\"text-align: right;\">\n",
              "      <th></th>\n",
              "      <th>id</th>\n",
              "      <th>date</th>\n",
              "      <th>bedrooms</th>\n",
              "      <th>bathrooms</th>\n",
              "      <th>sqft_living</th>\n",
              "      <th>sqft_lot</th>\n",
              "      <th>floors</th>\n",
              "      <th>waterfront</th>\n",
              "      <th>view</th>\n",
              "      <th>condition</th>\n",
              "      <th>...</th>\n",
              "      <th>sqft_above</th>\n",
              "      <th>sqft_basement</th>\n",
              "      <th>yr_built</th>\n",
              "      <th>yr_renovated</th>\n",
              "      <th>zipcode</th>\n",
              "      <th>lat</th>\n",
              "      <th>long</th>\n",
              "      <th>sqft_living15</th>\n",
              "      <th>sqft_lot15</th>\n",
              "      <th>price</th>\n",
              "    </tr>\n",
              "  </thead>\n",
              "  <tbody>\n",
              "    <tr>\n",
              "      <th>743</th>\n",
              "      <td>1773100755</td>\n",
              "      <td>20140821T000000</td>\n",
              "      <td>11</td>\n",
              "      <td>3.0</td>\n",
              "      <td>3000</td>\n",
              "      <td>4960</td>\n",
              "      <td>2.0</td>\n",
              "      <td>0</td>\n",
              "      <td>0</td>\n",
              "      <td>3</td>\n",
              "      <td>...</td>\n",
              "      <td>2400</td>\n",
              "      <td>600</td>\n",
              "      <td>1918</td>\n",
              "      <td>1999</td>\n",
              "      <td>98106</td>\n",
              "      <td>47.556</td>\n",
              "      <td>-122.363</td>\n",
              "      <td>1420</td>\n",
              "      <td>4960</td>\n",
              "      <td>520000.0</td>\n",
              "    </tr>\n",
              "  </tbody>\n",
              "</table>\n",
              "<p>1 rows × 21 columns</p>\n",
              "</div>\n",
              "      <button class=\"colab-df-convert\" onclick=\"convertToInteractive('df-6f0d5576-8c42-4084-ad29-6b40b34d813d')\"\n",
              "              title=\"Convert this dataframe to an interactive table.\"\n",
              "              style=\"display:none;\">\n",
              "        \n",
              "  <svg xmlns=\"http://www.w3.org/2000/svg\" height=\"24px\"viewBox=\"0 0 24 24\"\n",
              "       width=\"24px\">\n",
              "    <path d=\"M0 0h24v24H0V0z\" fill=\"none\"/>\n",
              "    <path d=\"M18.56 5.44l.94 2.06.94-2.06 2.06-.94-2.06-.94-.94-2.06-.94 2.06-2.06.94zm-11 1L8.5 8.5l.94-2.06 2.06-.94-2.06-.94L8.5 2.5l-.94 2.06-2.06.94zm10 10l.94 2.06.94-2.06 2.06-.94-2.06-.94-.94-2.06-.94 2.06-2.06.94z\"/><path d=\"M17.41 7.96l-1.37-1.37c-.4-.4-.92-.59-1.43-.59-.52 0-1.04.2-1.43.59L10.3 9.45l-7.72 7.72c-.78.78-.78 2.05 0 2.83L4 21.41c.39.39.9.59 1.41.59.51 0 1.02-.2 1.41-.59l7.78-7.78 2.81-2.81c.8-.78.8-2.07 0-2.86zM5.41 20L4 18.59l7.72-7.72 1.47 1.35L5.41 20z\"/>\n",
              "  </svg>\n",
              "      </button>\n",
              "      \n",
              "  <style>\n",
              "    .colab-df-container {\n",
              "      display:flex;\n",
              "      flex-wrap:wrap;\n",
              "      gap: 12px;\n",
              "    }\n",
              "\n",
              "    .colab-df-convert {\n",
              "      background-color: #E8F0FE;\n",
              "      border: none;\n",
              "      border-radius: 50%;\n",
              "      cursor: pointer;\n",
              "      display: none;\n",
              "      fill: #1967D2;\n",
              "      height: 32px;\n",
              "      padding: 0 0 0 0;\n",
              "      width: 32px;\n",
              "    }\n",
              "\n",
              "    .colab-df-convert:hover {\n",
              "      background-color: #E2EBFA;\n",
              "      box-shadow: 0px 1px 2px rgba(60, 64, 67, 0.3), 0px 1px 3px 1px rgba(60, 64, 67, 0.15);\n",
              "      fill: #174EA6;\n",
              "    }\n",
              "\n",
              "    [theme=dark] .colab-df-convert {\n",
              "      background-color: #3B4455;\n",
              "      fill: #D2E3FC;\n",
              "    }\n",
              "\n",
              "    [theme=dark] .colab-df-convert:hover {\n",
              "      background-color: #434B5C;\n",
              "      box-shadow: 0px 1px 3px 1px rgba(0, 0, 0, 0.15);\n",
              "      filter: drop-shadow(0px 1px 2px rgba(0, 0, 0, 0.3));\n",
              "      fill: #FFFFFF;\n",
              "    }\n",
              "  </style>\n",
              "\n",
              "      <script>\n",
              "        const buttonEl =\n",
              "          document.querySelector('#df-6f0d5576-8c42-4084-ad29-6b40b34d813d button.colab-df-convert');\n",
              "        buttonEl.style.display =\n",
              "          google.colab.kernel.accessAllowed ? 'block' : 'none';\n",
              "\n",
              "        async function convertToInteractive(key) {\n",
              "          const element = document.querySelector('#df-6f0d5576-8c42-4084-ad29-6b40b34d813d');\n",
              "          const dataTable =\n",
              "            await google.colab.kernel.invokeFunction('convertToInteractive',\n",
              "                                                     [key], {});\n",
              "          if (!dataTable) return;\n",
              "\n",
              "          const docLinkHtml = 'Like what you see? Visit the ' +\n",
              "            '<a target=\"_blank\" href=https://colab.research.google.com/notebooks/data_table.ipynb>data table notebook</a>'\n",
              "            + ' to learn more about interactive tables.';\n",
              "          element.innerHTML = '';\n",
              "          dataTable['output_type'] = 'display_data';\n",
              "          await google.colab.output.renderOutput(dataTable, element);\n",
              "          const docLink = document.createElement('div');\n",
              "          docLink.innerHTML = docLinkHtml;\n",
              "          element.appendChild(docLink);\n",
              "        }\n",
              "      </script>\n",
              "    </div>\n",
              "  </div>\n",
              "  "
            ]
          },
          "metadata": {},
          "execution_count": 7
        }
      ]
    },
    {
      "cell_type": "code",
      "source": [
        "thirty = housing[housing['bedrooms'] == 33]\n",
        "\n",
        "thirty"
      ],
      "metadata": {
        "colab": {
          "base_uri": "https://localhost:8080/",
          "height": 174
        },
        "id": "ogDsbulDkx_e",
        "outputId": "83a71f0c-f191-4d70-ad65-bc366eaa59cf"
      },
      "execution_count": 8,
      "outputs": [
        {
          "output_type": "execute_result",
          "data": {
            "text/plain": [
              "              id             date  bedrooms  bathrooms  sqft_living  sqft_lot  \\\n",
              "6984  2402100895  20140625T000000        33       1.75         1620      6000   \n",
              "\n",
              "      floors  waterfront  view  condition  ...  sqft_above  sqft_basement  \\\n",
              "6984     1.0           0     0          5  ...        1040            580   \n",
              "\n",
              "      yr_built  yr_renovated  zipcode      lat     long  sqft_living15  \\\n",
              "6984      1947             0    98103  47.6878 -122.331           1330   \n",
              "\n",
              "      sqft_lot15     price  \n",
              "6984        4700  640000.0  \n",
              "\n",
              "[1 rows x 21 columns]"
            ],
            "text/html": [
              "\n",
              "  <div id=\"df-2f707ba1-b495-44e3-a644-7ff69d4df263\">\n",
              "    <div class=\"colab-df-container\">\n",
              "      <div>\n",
              "<style scoped>\n",
              "    .dataframe tbody tr th:only-of-type {\n",
              "        vertical-align: middle;\n",
              "    }\n",
              "\n",
              "    .dataframe tbody tr th {\n",
              "        vertical-align: top;\n",
              "    }\n",
              "\n",
              "    .dataframe thead th {\n",
              "        text-align: right;\n",
              "    }\n",
              "</style>\n",
              "<table border=\"1\" class=\"dataframe\">\n",
              "  <thead>\n",
              "    <tr style=\"text-align: right;\">\n",
              "      <th></th>\n",
              "      <th>id</th>\n",
              "      <th>date</th>\n",
              "      <th>bedrooms</th>\n",
              "      <th>bathrooms</th>\n",
              "      <th>sqft_living</th>\n",
              "      <th>sqft_lot</th>\n",
              "      <th>floors</th>\n",
              "      <th>waterfront</th>\n",
              "      <th>view</th>\n",
              "      <th>condition</th>\n",
              "      <th>...</th>\n",
              "      <th>sqft_above</th>\n",
              "      <th>sqft_basement</th>\n",
              "      <th>yr_built</th>\n",
              "      <th>yr_renovated</th>\n",
              "      <th>zipcode</th>\n",
              "      <th>lat</th>\n",
              "      <th>long</th>\n",
              "      <th>sqft_living15</th>\n",
              "      <th>sqft_lot15</th>\n",
              "      <th>price</th>\n",
              "    </tr>\n",
              "  </thead>\n",
              "  <tbody>\n",
              "    <tr>\n",
              "      <th>6984</th>\n",
              "      <td>2402100895</td>\n",
              "      <td>20140625T000000</td>\n",
              "      <td>33</td>\n",
              "      <td>1.75</td>\n",
              "      <td>1620</td>\n",
              "      <td>6000</td>\n",
              "      <td>1.0</td>\n",
              "      <td>0</td>\n",
              "      <td>0</td>\n",
              "      <td>5</td>\n",
              "      <td>...</td>\n",
              "      <td>1040</td>\n",
              "      <td>580</td>\n",
              "      <td>1947</td>\n",
              "      <td>0</td>\n",
              "      <td>98103</td>\n",
              "      <td>47.6878</td>\n",
              "      <td>-122.331</td>\n",
              "      <td>1330</td>\n",
              "      <td>4700</td>\n",
              "      <td>640000.0</td>\n",
              "    </tr>\n",
              "  </tbody>\n",
              "</table>\n",
              "<p>1 rows × 21 columns</p>\n",
              "</div>\n",
              "      <button class=\"colab-df-convert\" onclick=\"convertToInteractive('df-2f707ba1-b495-44e3-a644-7ff69d4df263')\"\n",
              "              title=\"Convert this dataframe to an interactive table.\"\n",
              "              style=\"display:none;\">\n",
              "        \n",
              "  <svg xmlns=\"http://www.w3.org/2000/svg\" height=\"24px\"viewBox=\"0 0 24 24\"\n",
              "       width=\"24px\">\n",
              "    <path d=\"M0 0h24v24H0V0z\" fill=\"none\"/>\n",
              "    <path d=\"M18.56 5.44l.94 2.06.94-2.06 2.06-.94-2.06-.94-.94-2.06-.94 2.06-2.06.94zm-11 1L8.5 8.5l.94-2.06 2.06-.94-2.06-.94L8.5 2.5l-.94 2.06-2.06.94zm10 10l.94 2.06.94-2.06 2.06-.94-2.06-.94-.94-2.06-.94 2.06-2.06.94z\"/><path d=\"M17.41 7.96l-1.37-1.37c-.4-.4-.92-.59-1.43-.59-.52 0-1.04.2-1.43.59L10.3 9.45l-7.72 7.72c-.78.78-.78 2.05 0 2.83L4 21.41c.39.39.9.59 1.41.59.51 0 1.02-.2 1.41-.59l7.78-7.78 2.81-2.81c.8-.78.8-2.07 0-2.86zM5.41 20L4 18.59l7.72-7.72 1.47 1.35L5.41 20z\"/>\n",
              "  </svg>\n",
              "      </button>\n",
              "      \n",
              "  <style>\n",
              "    .colab-df-container {\n",
              "      display:flex;\n",
              "      flex-wrap:wrap;\n",
              "      gap: 12px;\n",
              "    }\n",
              "\n",
              "    .colab-df-convert {\n",
              "      background-color: #E8F0FE;\n",
              "      border: none;\n",
              "      border-radius: 50%;\n",
              "      cursor: pointer;\n",
              "      display: none;\n",
              "      fill: #1967D2;\n",
              "      height: 32px;\n",
              "      padding: 0 0 0 0;\n",
              "      width: 32px;\n",
              "    }\n",
              "\n",
              "    .colab-df-convert:hover {\n",
              "      background-color: #E2EBFA;\n",
              "      box-shadow: 0px 1px 2px rgba(60, 64, 67, 0.3), 0px 1px 3px 1px rgba(60, 64, 67, 0.15);\n",
              "      fill: #174EA6;\n",
              "    }\n",
              "\n",
              "    [theme=dark] .colab-df-convert {\n",
              "      background-color: #3B4455;\n",
              "      fill: #D2E3FC;\n",
              "    }\n",
              "\n",
              "    [theme=dark] .colab-df-convert:hover {\n",
              "      background-color: #434B5C;\n",
              "      box-shadow: 0px 1px 3px 1px rgba(0, 0, 0, 0.15);\n",
              "      filter: drop-shadow(0px 1px 2px rgba(0, 0, 0, 0.3));\n",
              "      fill: #FFFFFF;\n",
              "    }\n",
              "  </style>\n",
              "\n",
              "      <script>\n",
              "        const buttonEl =\n",
              "          document.querySelector('#df-2f707ba1-b495-44e3-a644-7ff69d4df263 button.colab-df-convert');\n",
              "        buttonEl.style.display =\n",
              "          google.colab.kernel.accessAllowed ? 'block' : 'none';\n",
              "\n",
              "        async function convertToInteractive(key) {\n",
              "          const element = document.querySelector('#df-2f707ba1-b495-44e3-a644-7ff69d4df263');\n",
              "          const dataTable =\n",
              "            await google.colab.kernel.invokeFunction('convertToInteractive',\n",
              "                                                     [key], {});\n",
              "          if (!dataTable) return;\n",
              "\n",
              "          const docLinkHtml = 'Like what you see? Visit the ' +\n",
              "            '<a target=\"_blank\" href=https://colab.research.google.com/notebooks/data_table.ipynb>data table notebook</a>'\n",
              "            + ' to learn more about interactive tables.';\n",
              "          element.innerHTML = '';\n",
              "          dataTable['output_type'] = 'display_data';\n",
              "          await google.colab.output.renderOutput(dataTable, element);\n",
              "          const docLink = document.createElement('div');\n",
              "          docLink.innerHTML = docLinkHtml;\n",
              "          element.appendChild(docLink);\n",
              "        }\n",
              "      </script>\n",
              "    </div>\n",
              "  </div>\n",
              "  "
            ]
          },
          "metadata": {},
          "execution_count": 8
        }
      ]
    },
    {
      "cell_type": "code",
      "source": [
        "housing = housing[housing['bedrooms'] < 33]\n",
        "\n",
        "housing['bedrooms'].value_counts()"
      ],
      "metadata": {
        "colab": {
          "base_uri": "https://localhost:8080/"
        },
        "id": "zfUKdjXilDpC",
        "outputId": "acdc2bb0-ff35-4530-ea9c-481d9ff0aed5"
      },
      "execution_count": 9,
      "outputs": [
        {
          "output_type": "execute_result",
          "data": {
            "text/plain": [
              "3     9101\n",
              "4     6354\n",
              "2     2567\n",
              "5     1478\n",
              "6      251\n",
              "1      179\n",
              "7       36\n",
              "8       12\n",
              "0       11\n",
              "9        6\n",
              "10       3\n",
              "11       1\n",
              "Name: bedrooms, dtype: int64"
            ]
          },
          "metadata": {},
          "execution_count": 9
        }
      ]
    },
    {
      "cell_type": "code",
      "source": [
        "housing['bathrooms'].groupby(housing['price']).value_counts()"
      ],
      "metadata": {
        "colab": {
          "base_uri": "https://localhost:8080/"
        },
        "id": "Ry8KLxrgRtdI",
        "outputId": "77e7a13e-4066-4799-bd70-fa9957fb5ab8"
      },
      "execution_count": 10,
      "outputs": [
        {
          "output_type": "execute_result",
          "data": {
            "text/plain": [
              "price      bathrooms\n",
              "75000.0    0.00         1\n",
              "78000.0    1.00         1\n",
              "80000.0    0.75         1\n",
              "81000.0    1.00         1\n",
              "82000.0    1.00         1\n",
              "                       ..\n",
              "5350000.0  5.00         1\n",
              "5570000.0  5.75         1\n",
              "6885000.0  7.75         1\n",
              "7062500.0  4.50         1\n",
              "7700000.0  8.00         1\n",
              "Name: bathrooms, Length: 8583, dtype: int64"
            ]
          },
          "metadata": {},
          "execution_count": 10
        }
      ]
    },
    {
      "cell_type": "code",
      "source": [
        "housing['sqft_living'].groupby(housing['price']).value_counts()"
      ],
      "metadata": {
        "colab": {
          "base_uri": "https://localhost:8080/"
        },
        "id": "IrSLXEPuT9Vq",
        "outputId": "429d0c4d-25a0-4d50-c0c3-67f29d2cc8c4"
      },
      "execution_count": 11,
      "outputs": [
        {
          "output_type": "execute_result",
          "data": {
            "text/plain": [
              "price      sqft_living\n",
              "75000.0    670            1\n",
              "78000.0    780            1\n",
              "80000.0    430            1\n",
              "81000.0    730            1\n",
              "82000.0    860            1\n",
              "                         ..\n",
              "5350000.0  8000           1\n",
              "5570000.0  9200           1\n",
              "6885000.0  9890           1\n",
              "7062500.0  10040          1\n",
              "7700000.0  12050          1\n",
              "Name: sqft_living, Length: 18248, dtype: int64"
            ]
          },
          "metadata": {},
          "execution_count": 11
        }
      ]
    },
    {
      "cell_type": "code",
      "source": [
        "# No real correlation to Price. Can get rid of\n",
        "housing['sqft_lot'].groupby(housing['price']).value_counts()"
      ],
      "metadata": {
        "colab": {
          "base_uri": "https://localhost:8080/"
        },
        "id": "kJ7WIgOzUDnz",
        "outputId": "2a93df3c-6580-470e-9a7f-b042f5dbd3f7"
      },
      "execution_count": 12,
      "outputs": [
        {
          "output_type": "execute_result",
          "data": {
            "text/plain": [
              "price      sqft_lot\n",
              "75000.0    43377       1\n",
              "78000.0    16344       1\n",
              "80000.0    5050        1\n",
              "81000.0    9975        1\n",
              "82000.0    10426       1\n",
              "                      ..\n",
              "5350000.0  23985       1\n",
              "5570000.0  35069       1\n",
              "6885000.0  31374       1\n",
              "7062500.0  37325       1\n",
              "7700000.0  27600       1\n",
              "Name: sqft_lot, Length: 19566, dtype: int64"
            ]
          },
          "metadata": {},
          "execution_count": 12
        }
      ]
    },
    {
      "cell_type": "code",
      "source": [
        "housing['yr_built'].groupby(housing['price']).value_counts()"
      ],
      "metadata": {
        "colab": {
          "base_uri": "https://localhost:8080/"
        },
        "id": "lG-5Bvp9UPII",
        "outputId": "a281cb89-1e65-43be-ad5c-14aee1c143b1"
      },
      "execution_count": 13,
      "outputs": [
        {
          "output_type": "execute_result",
          "data": {
            "text/plain": [
              "price      yr_built\n",
              "75000.0    1966        1\n",
              "78000.0    1942        1\n",
              "80000.0    1912        1\n",
              "81000.0    1943        1\n",
              "82000.0    1954        1\n",
              "                      ..\n",
              "5350000.0  2009        1\n",
              "5570000.0  2001        1\n",
              "6885000.0  2001        1\n",
              "7062500.0  1940        1\n",
              "7700000.0  1910        1\n",
              "Name: yr_built, Length: 16352, dtype: int64"
            ]
          },
          "metadata": {},
          "execution_count": 13
        }
      ]
    },
    {
      "cell_type": "code",
      "source": [
        "# Found that outside of 1 to 1.5 million, there are a lot of \"outliers\". Possibly trim data down to 1 or 1.5 million by price?\n",
        "sns.histplot(\n",
        "    x = housing['price']\n",
        ")"
      ],
      "metadata": {
        "colab": {
          "base_uri": "https://localhost:8080/",
          "height": 296
        },
        "id": "BwR3vwt4mecU",
        "outputId": "532a1156-5b28-4ce7-98b5-c4be4edb1a35"
      },
      "execution_count": 14,
      "outputs": [
        {
          "output_type": "execute_result",
          "data": {
            "text/plain": [
              "<matplotlib.axes._subplots.AxesSubplot at 0x7f6325620190>"
            ]
          },
          "metadata": {},
          "execution_count": 14
        },
        {
          "output_type": "display_data",
          "data": {
            "text/plain": [
              "<Figure size 432x288 with 1 Axes>"
            ],
            "image/png": "[encoded data removed]"
          },
          "metadata": {
            "needs_background": "light"
          }
        }
      ]
    },
    {
      "cell_type": "code",
      "source": [
        "# housing = housing[housing['price'] < 1000000]"
      ],
      "metadata": {
        "id": "A80sTZQrnHhq"
      },
      "execution_count": 15,
      "outputs": []
    },
    {
      "cell_type": "code",
      "source": [
        "# Data sorted by date. Found that datetime range for these housing selling is from May 2014 to May 2015\n",
        "housing['datetime'] = pd.to_datetime(housing['date'])\n",
        "housing.sort_values(by='datetime')"
      ],
      "metadata": {
        "colab": {
          "base_uri": "https://localhost:8080/",
          "height": 661
        },
        "id": "9QzcWLF3rXTM",
        "outputId": "ba4770ae-8d23-43f0-a997-a370c6b483a6"
      },
      "execution_count": 16,
      "outputs": [
        {
          "output_type": "execute_result",
          "data": {
            "text/plain": [
              "               id             date  bedrooms  bathrooms  sqft_living  \\\n",
              "11735  3221059036  20140502T000000         4       2.50         3630   \n",
              "17660   472000620  20140502T000000         3       2.50         2600   \n",
              "6133   2207200675  20140502T000000         3       1.50         1570   \n",
              "8539   7197300105  20140502T000000         4       2.50         1940   \n",
              "5670   4040800810  20140502T000000         3       2.25         2000   \n",
              "...           ...              ...       ...        ...          ...   \n",
              "7771   4166600610  20150514T000000         3       2.00         1410   \n",
              "2330   8562790720  20150514T000000         4       3.50         2630   \n",
              "16657  7923600250  20150515T000000         5       2.00         1870   \n",
              "4281   5101400871  20150524T000000         2       1.75         1390   \n",
              "245    9106000005  20150527T000000         4       2.25         3750   \n",
              "\n",
              "       sqft_lot  floors  waterfront  view  condition  ...  sqft_basement  \\\n",
              "11735     42884     1.5           0     0          3  ...           1330   \n",
              "17660      4750     1.0           0     0          4  ...            900   \n",
              "6133       6700     1.0           0     0          4  ...              0   \n",
              "8539      10500     1.0           0     0          4  ...            800   \n",
              "5670       8030     1.0           0     0          4  ...           1000   \n",
              "...         ...     ...         ...   ...        ...  ...            ...   \n",
              "7771      44866     1.0           0     0          4  ...              0   \n",
              "2330       3757     2.0           0     0          3  ...            430   \n",
              "16657      7344     1.5           0     0          3  ...              0   \n",
              "4281       6670     1.0           0     0          3  ...            670   \n",
              "245        5000     2.0           0     0          5  ...           1310   \n",
              "\n",
              "       yr_built  yr_renovated  zipcode      lat     long  sqft_living15  \\\n",
              "11735      1979             0    98092  47.2617 -122.190           2830   \n",
              "17660      1951             0    98117  47.6833 -122.400           2380   \n",
              "6133       1956             0    98007  47.6022 -122.134           1570   \n",
              "8539       1976             0    98052  47.6830 -122.114           2200   \n",
              "5670       1963             0    98008  47.6188 -122.114           2070   \n",
              "...         ...           ...      ...      ...      ...            ...   \n",
              "7771       1985             0    98023  47.3273 -122.370           2950   \n",
              "2330       2008             0    98027  47.5322 -122.075           2620   \n",
              "16657      1960             0    98007  47.5951 -122.144           1870   \n",
              "4281       1941             0    98115  47.6914 -122.308            920   \n",
              "245        1924             0    98115  47.6747 -122.303           2170   \n",
              "\n",
              "       sqft_lot15      price   datetime  \n",
              "11735       80148   400000.0 2014-05-02  \n",
              "17660        4750   790000.0 2014-05-02  \n",
              "6133         7300   419000.0 2014-05-02  \n",
              "8539        10500   550000.0 2014-05-02  \n",
              "5670         8250   420000.0 2014-05-02  \n",
              "...           ...        ...        ...  \n",
              "7771        29152   335000.0 2015-05-14  \n",
              "2330         2699   749950.0 2015-05-14  \n",
              "16657        7650   450000.0 2015-05-15  \n",
              "4281         6380   445500.0 2015-05-24  \n",
              "245          4590  1310000.0 2015-05-27  \n",
              "\n",
              "[19999 rows x 22 columns]"
            ],
            "text/html": [
              "\n",
              "  <div id=\"df-1da6996a-73a5-47a6-9d6f-767aea190dbe\">\n",
              "    <div class=\"colab-df-container\">\n",
              "      <div>\n",
              "<style scoped>\n",
              "    .dataframe tbody tr th:only-of-type {\n",
              "        vertical-align: middle;\n",
              "    }\n",
              "\n",
              "    .dataframe tbody tr th {\n",
              "        vertical-align: top;\n",
              "    }\n",
              "\n",
              "    .dataframe thead th {\n",
              "        text-align: right;\n",
              "    }\n",
              "</style>\n",
              "<table border=\"1\" class=\"dataframe\">\n",
              "  <thead>\n",
              "    <tr style=\"text-align: right;\">\n",
              "      <th></th>\n",
              "      <th>id</th>\n",
              "      <th>date</th>\n",
              "      <th>bedrooms</th>\n",
              "      <th>bathrooms</th>\n",
              "      <th>sqft_living</th>\n",
              "      <th>sqft_lot</th>\n",
              "      <th>floors</th>\n",
              "      <th>waterfront</th>\n",
              "      <th>view</th>\n",
              "      <th>condition</th>\n",
              "      <th>...</th>\n",
              "      <th>sqft_basement</th>\n",
              "      <th>yr_built</th>\n",
              "      <th>yr_renovated</th>\n",
              "      <th>zipcode</th>\n",
              "      <th>lat</th>\n",
              "      <th>long</th>\n",
              "      <th>sqft_living15</th>\n",
              "      <th>sqft_lot15</th>\n",
              "      <th>price</th>\n",
              "      <th>datetime</th>\n",
              "    </tr>\n",
              "  </thead>\n",
              "  <tbody>\n",
              "    <tr>\n",
              "      <th>11735</th>\n",
              "      <td>3221059036</td>\n",
              "      <td>20140502T000000</td>\n",
              "      <td>4</td>\n",
              "      <td>2.50</td>\n",
              "      <td>3630</td>\n",
              "      <td>42884</td>\n",
              "      <td>1.5</td>\n",
              "      <td>0</td>\n",
              "      <td>0</td>\n",
              "      <td>3</td>\n",
              "      <td>...</td>\n",
              "      <td>1330</td>\n",
              "      <td>1979</td>\n",
              "      <td>0</td>\n",
              "      <td>98092</td>\n",
              "      <td>47.2617</td>\n",
              "      <td>-122.190</td>\n",
              "      <td>2830</td>\n",
              "      <td>80148</td>\n",
              "      <td>400000.0</td>\n",
              "      <td>2014-05-02</td>\n",
              "    </tr>\n",
              "    <tr>\n",
              "      <th>17660</th>\n",
              "      <td>472000620</td>\n",
              "      <td>20140502T000000</td>\n",
              "      <td>3</td>\n",
              "      <td>2.50</td>\n",
              "      <td>2600</td>\n",
              "      <td>4750</td>\n",
              "      <td>1.0</td>\n",
              "      <td>0</td>\n",
              "      <td>0</td>\n",
              "      <td>4</td>\n",
              "      <td>...</td>\n",
              "      <td>900</td>\n",
              "      <td>1951</td>\n",
              "      <td>0</td>\n",
              "      <td>98117</td>\n",
              "      <td>47.6833</td>\n",
              "      <td>-122.400</td>\n",
              "      <td>2380</td>\n",
              "      <td>4750</td>\n",
              "      <td>790000.0</td>\n",
              "      <td>2014-05-02</td>\n",
              "    </tr>\n",
              "    <tr>\n",
              "      <th>6133</th>\n",
              "      <td>2207200675</td>\n",
              "      <td>20140502T000000</td>\n",
              "      <td>3</td>\n",
              "      <td>1.50</td>\n",
              "      <td>1570</td>\n",
              "      <td>6700</td>\n",
              "      <td>1.0</td>\n",
              "      <td>0</td>\n",
              "      <td>0</td>\n",
              "      <td>4</td>\n",
              "      <td>...</td>\n",
              "      <td>0</td>\n",
              "      <td>1956</td>\n",
              "      <td>0</td>\n",
              "      <td>98007</td>\n",
              "      <td>47.6022</td>\n",
              "      <td>-122.134</td>\n",
              "      <td>1570</td>\n",
              "      <td>7300</td>\n",
              "      <td>419000.0</td>\n",
              "      <td>2014-05-02</td>\n",
              "    </tr>\n",
              "    <tr>\n",
              "      <th>8539</th>\n",
              "      <td>7197300105</td>\n",
              "      <td>20140502T000000</td>\n",
              "      <td>4</td>\n",
              "      <td>2.50</td>\n",
              "      <td>1940</td>\n",
              "      <td>10500</td>\n",
              "      <td>1.0</td>\n",
              "      <td>0</td>\n",
              "      <td>0</td>\n",
              "      <td>4</td>\n",
              "      <td>...</td>\n",
              "      <td>800</td>\n",
              "      <td>1976</td>\n",
              "      <td>0</td>\n",
              "      <td>98052</td>\n",
              "      <td>47.6830</td>\n",
              "      <td>-122.114</td>\n",
              "      <td>2200</td>\n",
              "      <td>10500</td>\n",
              "      <td>550000.0</td>\n",
              "      <td>2014-05-02</td>\n",
              "    </tr>\n",
              "    <tr>\n",
              "      <th>5670</th>\n",
              "      <td>4040800810</td>\n",
              "      <td>20140502T000000</td>\n",
              "      <td>3</td>\n",
              "      <td>2.25</td>\n",
              "      <td>2000</td>\n",
              "      <td>8030</td>\n",
              "      <td>1.0</td>\n",
              "      <td>0</td>\n",
              "      <td>0</td>\n",
              "      <td>4</td>\n",
              "      <td>...</td>\n",
              "      <td>1000</td>\n",
              "      <td>1963</td>\n",
              "      <td>0</td>\n",
              "      <td>98008</td>\n",
              "      <td>47.6188</td>\n",
              "      <td>-122.114</td>\n",
              "      <td>2070</td>\n",
              "      <td>8250</td>\n",
              "      <td>420000.0</td>\n",
              "      <td>2014-05-02</td>\n",
              "    </tr>\n",
              "    <tr>\n",
              "      <th>...</th>\n",
              "      <td>...</td>\n",
              "      <td>...</td>\n",
              "      <td>...</td>\n",
              "      <td>...</td>\n",
              "      <td>...</td>\n",
              "      <td>...</td>\n",
              "      <td>...</td>\n",
              "      <td>...</td>\n",
              "      <td>...</td>\n",
              "      <td>...</td>\n",
              "      <td>...</td>\n",
              "      <td>...</td>\n",
              "      <td>...</td>\n",
              "      <td>...</td>\n",
              "      <td>...</td>\n",
              "      <td>...</td>\n",
              "      <td>...</td>\n",
              "      <td>...</td>\n",
              "      <td>...</td>\n",
              "      <td>...</td>\n",
              "      <td>...</td>\n",
              "    </tr>\n",
              "    <tr>\n",
              "      <th>7771</th>\n",
              "      <td>4166600610</td>\n",
              "      <td>20150514T000000</td>\n",
              "      <td>3</td>\n",
              "      <td>2.00</td>\n",
              "      <td>1410</td>\n",
              "      <td>44866</td>\n",
              "      <td>1.0</td>\n",
              "      <td>0</td>\n",
              "      <td>0</td>\n",
              "      <td>4</td>\n",
              "      <td>...</td>\n",
              "      <td>0</td>\n",
              "      <td>1985</td>\n",
              "      <td>0</td>\n",
              "      <td>98023</td>\n",
              "      <td>47.3273</td>\n",
              "      <td>-122.370</td>\n",
              "      <td>2950</td>\n",
              "      <td>29152</td>\n",
              "      <td>335000.0</td>\n",
              "      <td>2015-05-14</td>\n",
              "    </tr>\n",
              "    <tr>\n",
              "      <th>2330</th>\n",
              "      <td>8562790720</td>\n",
              "      <td>20150514T000000</td>\n",
              "      <td>4</td>\n",
              "      <td>3.50</td>\n",
              "      <td>2630</td>\n",
              "      <td>3757</td>\n",
              "      <td>2.0</td>\n",
              "      <td>0</td>\n",
              "      <td>0</td>\n",
              "      <td>3</td>\n",
              "      <td>...</td>\n",
              "      <td>430</td>\n",
              "      <td>2008</td>\n",
              "      <td>0</td>\n",
              "      <td>98027</td>\n",
              "      <td>47.5322</td>\n",
              "      <td>-122.075</td>\n",
              "      <td>2620</td>\n",
              "      <td>2699</td>\n",
              "      <td>749950.0</td>\n",
              "      <td>2015-05-14</td>\n",
              "    </tr>\n",
              "    <tr>\n",
              "      <th>16657</th>\n",
              "      <td>7923600250</td>\n",
              "      <td>20150515T000000</td>\n",
              "      <td>5</td>\n",
              "      <td>2.00</td>\n",
              "      <td>1870</td>\n",
              "      <td>7344</td>\n",
              "      <td>1.5</td>\n",
              "      <td>0</td>\n",
              "      <td>0</td>\n",
              "      <td>3</td>\n",
              "      <td>...</td>\n",
              "      <td>0</td>\n",
              "      <td>1960</td>\n",
              "      <td>0</td>\n",
              "      <td>98007</td>\n",
              "      <td>47.5951</td>\n",
              "      <td>-122.144</td>\n",
              "      <td>1870</td>\n",
              "      <td>7650</td>\n",
              "      <td>450000.0</td>\n",
              "      <td>2015-05-15</td>\n",
              "    </tr>\n",
              "    <tr>\n",
              "      <th>4281</th>\n",
              "      <td>5101400871</td>\n",
              "      <td>20150524T000000</td>\n",
              "      <td>2</td>\n",
              "      <td>1.75</td>\n",
              "      <td>1390</td>\n",
              "      <td>6670</td>\n",
              "      <td>1.0</td>\n",
              "      <td>0</td>\n",
              "      <td>0</td>\n",
              "      <td>3</td>\n",
              "      <td>...</td>\n",
              "      <td>670</td>\n",
              "      <td>1941</td>\n",
              "      <td>0</td>\n",
              "      <td>98115</td>\n",
              "      <td>47.6914</td>\n",
              "      <td>-122.308</td>\n",
              "      <td>920</td>\n",
              "      <td>6380</td>\n",
              "      <td>445500.0</td>\n",
              "      <td>2015-05-24</td>\n",
              "    </tr>\n",
              "    <tr>\n",
              "      <th>245</th>\n",
              "      <td>9106000005</td>\n",
              "      <td>20150527T000000</td>\n",
              "      <td>4</td>\n",
              "      <td>2.25</td>\n",
              "      <td>3750</td>\n",
              "      <td>5000</td>\n",
              "      <td>2.0</td>\n",
              "      <td>0</td>\n",
              "      <td>0</td>\n",
              "      <td>5</td>\n",
              "      <td>...</td>\n",
              "      <td>1310</td>\n",
              "      <td>1924</td>\n",
              "      <td>0</td>\n",
              "      <td>98115</td>\n",
              "      <td>47.6747</td>\n",
              "      <td>-122.303</td>\n",
              "      <td>2170</td>\n",
              "      <td>4590</td>\n",
              "      <td>1310000.0</td>\n",
              "      <td>2015-05-27</td>\n",
              "    </tr>\n",
              "  </tbody>\n",
              "</table>\n",
              "<p>19999 rows × 22 columns</p>\n",
              "</div>\n",
              "      <button class=\"colab-df-convert\" onclick=\"convertToInteractive('df-1da6996a-73a5-47a6-9d6f-767aea190dbe')\"\n",
              "              title=\"Convert this dataframe to an interactive table.\"\n",
              "              style=\"display:none;\">\n",
              "        \n",
              "  <svg xmlns=\"http://www.w3.org/2000/svg\" height=\"24px\"viewBox=\"0 0 24 24\"\n",
              "       width=\"24px\">\n",
              "    <path d=\"M0 0h24v24H0V0z\" fill=\"none\"/>\n",
              "    <path d=\"M18.56 5.44l.94 2.06.94-2.06 2.06-.94-2.06-.94-.94-2.06-.94 2.06-2.06.94zm-11 1L8.5 8.5l.94-2.06 2.06-.94-2.06-.94L8.5 2.5l-.94 2.06-2.06.94zm10 10l.94 2.06.94-2.06 2.06-.94-2.06-.94-.94-2.06-.94 2.06-2.06.94z\"/><path d=\"M17.41 7.96l-1.37-1.37c-.4-.4-.92-.59-1.43-.59-.52 0-1.04.2-1.43.59L10.3 9.45l-7.72 7.72c-.78.78-.78 2.05 0 2.83L4 21.41c.39.39.9.59 1.41.59.51 0 1.02-.2 1.41-.59l7.78-7.78 2.81-2.81c.8-.78.8-2.07 0-2.86zM5.41 20L4 18.59l7.72-7.72 1.47 1.35L5.41 20z\"/>\n",
              "  </svg>\n",
              "      </button>\n",
              "      \n",
              "  <style>\n",
              "    .colab-df-container {\n",
              "      display:flex;\n",
              "      flex-wrap:wrap;\n",
              "      gap: 12px;\n",
              "    }\n",
              "\n",
              "    .colab-df-convert {\n",
              "      background-color: #E8F0FE;\n",
              "      border: none;\n",
              "      border-radius: 50%;\n",
              "      cursor: pointer;\n",
              "      display: none;\n",
              "      fill: #1967D2;\n",
              "      height: 32px;\n",
              "      padding: 0 0 0 0;\n",
              "      width: 32px;\n",
              "    }\n",
              "\n",
              "    .colab-df-convert:hover {\n",
              "      background-color: #E2EBFA;\n",
              "      box-shadow: 0px 1px 2px rgba(60, 64, 67, 0.3), 0px 1px 3px 1px rgba(60, 64, 67, 0.15);\n",
              "      fill: #174EA6;\n",
              "    }\n",
              "\n",
              "    [theme=dark] .colab-df-convert {\n",
              "      background-color: #3B4455;\n",
              "      fill: #D2E3FC;\n",
              "    }\n",
              "\n",
              "    [theme=dark] .colab-df-convert:hover {\n",
              "      background-color: #434B5C;\n",
              "      box-shadow: 0px 1px 3px 1px rgba(0, 0, 0, 0.15);\n",
              "      filter: drop-shadow(0px 1px 2px rgba(0, 0, 0, 0.3));\n",
              "      fill: #FFFFFF;\n",
              "    }\n",
              "  </style>\n",
              "\n",
              "      <script>\n",
              "        const buttonEl =\n",
              "          document.querySelector('#df-1da6996a-73a5-47a6-9d6f-767aea190dbe button.colab-df-convert');\n",
              "        buttonEl.style.display =\n",
              "          google.colab.kernel.accessAllowed ? 'block' : 'none';\n",
              "\n",
              "        async function convertToInteractive(key) {\n",
              "          const element = document.querySelector('#df-1da6996a-73a5-47a6-9d6f-767aea190dbe');\n",
              "          const dataTable =\n",
              "            await google.colab.kernel.invokeFunction('convertToInteractive',\n",
              "                                                     [key], {});\n",
              "          if (!dataTable) return;\n",
              "\n",
              "          const docLinkHtml = 'Like what you see? Visit the ' +\n",
              "            '<a target=\"_blank\" href=https://colab.research.google.com/notebooks/data_table.ipynb>data table notebook</a>'\n",
              "            + ' to learn more about interactive tables.';\n",
              "          element.innerHTML = '';\n",
              "          dataTable['output_type'] = 'display_data';\n",
              "          await google.colab.output.renderOutput(dataTable, element);\n",
              "          const docLink = document.createElement('div');\n",
              "          docLink.innerHTML = docLinkHtml;\n",
              "          element.appendChild(docLink);\n",
              "        }\n",
              "      </script>\n",
              "    </div>\n",
              "  </div>\n",
              "  "
            ]
          },
          "metadata": {},
          "execution_count": 16
        }
      ]
    },
    {
      "cell_type": "code",
      "source": [
        "sns.histplot(data=housing, x=\"datetime\", kde=True).set(title='Houses Sold Through the Years', xlabel='Date', ylabel='Total Houses Sold')"
      ],
      "metadata": {
        "colab": {
          "base_uri": "https://localhost:8080/",
          "height": 347
        },
        "id": "JrGM4BeZ7Y2Z",
        "outputId": "994021f0-220e-48b3-853c-7b4dbe06c592"
      },
      "execution_count": 17,
      "outputs": [
        {
          "output_type": "execute_result",
          "data": {
            "text/plain": [
              "[Text(0, 0.5, 'Total Houses Sold'),\n",
              " Text(0.5, 0, 'Date'),\n",
              " Text(0.5, 1.0, 'Houses Sold Through the Years')]"
            ]
          },
          "metadata": {},
          "execution_count": 17
        },
        {
          "output_type": "display_data",
          "data": {
            "text/plain": [
              "<Figure size 432x288 with 1 Axes>"
            ],
            "image/png": "[encoded data removed]"
          },
          "metadata": {
            "needs_background": "light"
          }
        }
      ]
    },
    {
      "cell_type": "markdown",
      "source": [
        "# Model"
      ],
      "metadata": {
        "id": "QNr7ySIOQZDC"
      }
    },
    {
      "cell_type": "code",
      "metadata": {
        "id": "CVSfaqgKPzE2"
      },
      "source": [
        "# Import the libraries we need \n",
        "from xgboost import XGBRegressor\n",
        "from sklearn.model_selection import train_test_split"
      ],
      "execution_count": 18,
      "outputs": []
    },
    {
      "cell_type": "code",
      "source": [
        "center_lat = 47.617004\n",
        "center_long = -122.343506\n",
        "\n",
        "housing[\"distance\"] = ((center_lat - housing[\"lat\"])**2 + (center_long - housing[\"long\"])**2)**.05\n",
        "housing[\"distance\"].head()"
      ],
      "metadata": {
        "colab": {
          "base_uri": "https://localhost:8080/"
        },
        "id": "RL0msJLS7-fQ",
        "outputId": "bcab47ba-8266-40ea-ff25-5e3bd46ff186"
      },
      "execution_count": 19,
      "outputs": [
        {
          "output_type": "execute_result",
          "data": {
            "text/plain": [
              "0    0.906564\n",
              "1    0.891147\n",
              "2    0.764832\n",
              "3    0.887130\n",
              "4    0.782450\n",
              "Name: distance, dtype: float64"
            ]
          },
          "metadata": {},
          "execution_count": 19
        }
      ]
    },
    {
      "cell_type": "code",
      "metadata": {
        "id": "RnGBwGVZPyyh"
      },
      "source": [
        "# Bedrooms, Bathrooms, sqft_living, sqft_lot, condition, grade, yr_built, yr_renovated, zipcode, \n",
        "features = ['distance', 'bedrooms','bathrooms', 'sqft_lot', 'floors','condition','sqft_above','sqft_basement','yr_built','zipcode','sqft_living15', 'sqft_lot15', 'grade', 'sqft_living', 'view', 'waterfront','lat','long', 'id', 'yr_renovated']\n",
        "X = housing[features]\n",
        "\n",
        "y = housing['price']\n",
        "\n",
        "X_test, X_train, y_test, y_train = train_test_split(X, y, test_size=0.25, random_state=20)"
      ],
      "execution_count": 20,
      "outputs": []
    },
    {
      "cell_type": "code",
      "source": [
        "model = XGBRegressor(n_estimators=400,learning_rate=0.03, max_depth=7, min_child_weight=4, nthread=4, objective='reg:linear', silent=1, subsample=0.7)\n",
        "model.fit(X_train, y_train)"
      ],
      "metadata": {
        "colab": {
          "base_uri": "https://localhost:8080/"
        },
        "id": "gtPjCboyNU-9",
        "outputId": "7a4720f1-1f0d-4081-fd69-b5c78d034eac"
      },
      "execution_count": 21,
      "outputs": [
        {
          "output_type": "execute_result",
          "data": {
            "text/plain": [
              "XGBRegressor(learning_rate=0.03, max_depth=7, min_child_weight=4,\n",
              "             n_estimators=400, nthread=4, silent=1, subsample=0.7)"
            ]
          },
          "metadata": {},
          "execution_count": 21
        }
      ]
    },
    {
      "cell_type": "code",
      "source": [
        "predictions = model.predict(X_test)\n",
        "predictions"
      ],
      "metadata": {
        "colab": {
          "base_uri": "https://localhost:8080/"
        },
        "id": "8gqumgeXNb7D",
        "outputId": "0bbfa8c2-1d60-45e4-a1f5-1685251c6ab9"
      },
      "execution_count": 22,
      "outputs": [
        {
          "output_type": "execute_result",
          "data": {
            "text/plain": [
              "array([ 351803.47, 1368013.1 ,  501034.  , ...,  393107.44,  330909.3 ,\n",
              "        367272.7 ], dtype=float32)"
            ]
          },
          "metadata": {},
          "execution_count": 22
        }
      ]
    },
    {
      "cell_type": "markdown",
      "source": [
        "Error Counts"
      ],
      "metadata": {
        "id": "BuIWe2wpS7s6"
      }
    },
    {
      "cell_type": "code",
      "source": [
        "# RMSE Value (squared set to False)\n",
        "from sklearn.metrics import mean_squared_error\n",
        "\n",
        "result = mean_squared_error(y_test, predictions, squared=False)\n",
        "result\n"
      ],
      "metadata": {
        "colab": {
          "base_uri": "https://localhost:8080/"
        },
        "id": "dutPBy6KNfr_",
        "outputId": "b0064f39-a693-43b2-b5c5-40be7604ab87"
      },
      "execution_count": 23,
      "outputs": [
        {
          "output_type": "execute_result",
          "data": {
            "text/plain": [
              "133371.46971162639"
            ]
          },
          "metadata": {},
          "execution_count": 23
        }
      ]
    },
    {
      "cell_type": "code",
      "source": [
        "# R2 Value\n",
        "from sklearn.metrics import r2_score\n",
        "\n",
        "result = r2_score(y_test, predictions)\n",
        "\n",
        "print(result)"
      ],
      "metadata": {
        "colab": {
          "base_uri": "https://localhost:8080/"
        },
        "id": "oW9pmAC1oBzz",
        "outputId": "c7a86787-7bc1-44a7-dc2d-cf3dda2a827a"
      },
      "execution_count": 24,
      "outputs": [
        {
          "output_type": "stream",
          "name": "stdout",
          "text": [
            "0.8668581999861952\n"
          ]
        }
      ]
    },
    {
      "cell_type": "markdown",
      "source": [
        "Model Feature Importance Chart"
      ],
      "metadata": {
        "id": "SgG5Bm6SQkl6"
      }
    },
    {
      "cell_type": "code",
      "source": [
        "def buildTrainTestPrintModel(X, y):\n",
        "  X_test, X_train, y_test, y_train = train_test_split(X, y, test_size=0.25, random_state=20)\n",
        "  model = XGBRegressor(n_estimators=400,learning_rate=0.03, max_depth=7, min_child_weight=4, nthread=4, objective='reg:linear', silent=1, subsample=0.7)\n",
        "  model.fit(X_train, y_train)\n",
        "  predictions = model.predict(X_test)\n",
        "  result = r2_score(y_test, predictions)\n",
        "\n",
        "  within5 = (predictions / y_test - 1) < .05\n",
        "  print(within5.value_counts())\n"
      ],
      "metadata": {
        "id": "lrbL0sCMWN-Q"
      },
      "execution_count": 25,
      "outputs": []
    },
    {
      "cell_type": "code",
      "source": [
        "housing_without0bedrooms = housing[housing['bedrooms'] > 0]\n",
        "housing_without0bedrooms['bedrooms'].value_counts()"
      ],
      "metadata": {
        "colab": {
          "base_uri": "https://localhost:8080/"
        },
        "id": "cLj5MLgRWqsB",
        "outputId": "f2f4a5d0-dc00-40d0-98ee-876673f0432c"
      },
      "execution_count": 26,
      "outputs": [
        {
          "output_type": "execute_result",
          "data": {
            "text/plain": [
              "3     9101\n",
              "4     6354\n",
              "2     2567\n",
              "5     1478\n",
              "6      251\n",
              "1      179\n",
              "7       36\n",
              "8       12\n",
              "9        6\n",
              "10       3\n",
              "11       1\n",
              "Name: bedrooms, dtype: int64"
            ]
          },
          "metadata": {},
          "execution_count": 26
        }
      ]
    },
    {
      "cell_type": "code",
      "source": [
        "features = ['distance', 'bedrooms','bathrooms', 'sqft_lot', 'floors','condition','sqft_above','sqft_basement','yr_built','zipcode','sqft_living15', 'sqft_lot15', 'grade', 'sqft_living', 'view', 'waterfront','lat','long', 'id', 'yr_renovated']\n",
        "X = housing_without0bedrooms[features]\n",
        "y = housing_without0bedrooms['price']\n",
        "\n",
        "buildTrainTestPrintModel(X, y)"
      ],
      "metadata": {
        "colab": {
          "base_uri": "https://localhost:8080/"
        },
        "id": "BKjRD44sVGt4",
        "outputId": "8c72fb87-f638-4771-f5f5-a69997379fc7"
      },
      "execution_count": 27,
      "outputs": [
        {
          "output_type": "stream",
          "name": "stdout",
          "text": [
            "True     9431\n",
            "False    5560\n",
            "Name: price, dtype: int64\n"
          ]
        }
      ]
    },
    {
      "cell_type": "code",
      "source": [
        "housing_without0bedrooms = housing[(housing['bedrooms'] > 0) & (housing['bathrooms'] > 0)]\n",
        "housing_without0bedrooms['bedrooms'].value_counts()"
      ],
      "metadata": {
        "id": "tFYnifo1Xwm0",
        "outputId": "b9c4b211-57ae-41da-c178-52e4f471e4b9",
        "colab": {
          "base_uri": "https://localhost:8080/"
        }
      },
      "execution_count": 28,
      "outputs": [
        {
          "output_type": "execute_result",
          "data": {
            "text/plain": [
              "3     9101\n",
              "4     6354\n",
              "2     2567\n",
              "5     1478\n",
              "6      251\n",
              "1      176\n",
              "7       36\n",
              "8       12\n",
              "9        6\n",
              "10       3\n",
              "11       1\n",
              "Name: bedrooms, dtype: int64"
            ]
          },
          "metadata": {},
          "execution_count": 28
        }
      ]
    },
    {
      "cell_type": "code",
      "source": [
        "features = ['distance', 'bedrooms','bathrooms', 'sqft_lot', 'floors','condition','sqft_above','sqft_basement','yr_built','zipcode','sqft_living15', 'sqft_lot15', 'grade', 'sqft_living', 'view', 'waterfront','lat','long', 'id', 'yr_renovated']\n",
        "X = housing_without0bedrooms[features]\n",
        "y = housing_without0bedrooms['price']\n",
        "\n",
        "buildTrainTestPrintModel(X, y)"
      ],
      "metadata": {
        "id": "FSH0Dh7WYVjI",
        "outputId": "6b8a7c81-80e0-4324-cac8-bf20bbde17cc",
        "colab": {
          "base_uri": "https://localhost:8080/"
        }
      },
      "execution_count": 29,
      "outputs": [
        {
          "output_type": "stream",
          "name": "stdout",
          "text": [
            "True     9403\n",
            "False    5585\n",
            "Name: price, dtype: int64\n"
          ]
        }
      ]
    },
    {
      "cell_type": "code",
      "source": [
        "housing['coordinates'] = housing['lat'].astype(str) + \", \" + housing['long'].astype(str)\n",
        "housing['apartments'] = housing['coordinates'].duplicated()\n",
        "housing['apartments'].value_counts()\n"
      ],
      "metadata": {
        "id": "Ck4HnKoNZy2D",
        "outputId": "886018b9-e7ab-4e25-b331-4ccf1700a86e",
        "colab": {
          "base_uri": "https://localhost:8080/"
        }
      },
      "execution_count": 30,
      "outputs": [
        {
          "output_type": "execute_result",
          "data": {
            "text/plain": [
              "False    19321\n",
              "True       678\n",
              "Name: apartments, dtype: int64"
            ]
          },
          "metadata": {},
          "execution_count": 30
        }
      ]
    },
    {
      "cell_type": "code",
      "source": [
        "features = ['apartments', 'distance', 'bedrooms','bathrooms', 'sqft_lot', 'floors','condition','sqft_above','sqft_basement','yr_built','zipcode','sqft_living15', 'sqft_lot15', 'grade', 'sqft_living', 'view', 'waterfront','lat','long', 'id', 'yr_renovated']\n",
        "X = housing[features]\n",
        "y = housing['price']\n",
        "\n",
        "buildTrainTestPrintModel(X, y)"
      ],
      "metadata": {
        "id": "pkHrLIQ09o0c",
        "outputId": "32337a88-65c8-445e-8301-b71a201882cb",
        "colab": {
          "base_uri": "https://localhost:8080/"
        }
      },
      "execution_count": 31,
      "outputs": [
        {
          "output_type": "stream",
          "name": "stdout",
          "text": [
            "True     9425\n",
            "False    5574\n",
            "Name: price, dtype: int64\n"
          ]
        }
      ]
    },
    {
      "cell_type": "code",
      "source": [
        "housing['lat'].value_counts()"
      ],
      "metadata": {
        "id": "nWrIroJeCAlT",
        "outputId": "65dc11d6-802d-4ac1-9a19-2e1f63ba3451",
        "colab": {
          "base_uri": "https://localhost:8080/"
        }
      },
      "execution_count": 32,
      "outputs": [
        {
          "output_type": "execute_result",
          "data": {
            "text/plain": [
              "47.6624    17\n",
              "47.5491    17\n",
              "47.6711    16\n",
              "47.6846    15\n",
              "47.5322    15\n",
              "           ..\n",
              "47.2804     1\n",
              "47.4677     1\n",
              "47.2058     1\n",
              "47.3057     1\n",
              "47.2781     1\n",
              "Name: lat, Length: 4973, dtype: int64"
            ]
          },
          "metadata": {},
          "execution_count": 32
        }
      ]
    },
    {
      "cell_type": "code",
      "source": [
        "housing['long'].value_counts()"
      ],
      "metadata": {
        "id": "EowQpkdDCFxk",
        "outputId": "0ca9c631-db00-4aa4-99cf-bd054ed8e8bb",
        "colab": {
          "base_uri": "https://localhost:8080/"
        }
      },
      "execution_count": 33,
      "outputs": [
        {
          "output_type": "execute_result",
          "data": {
            "text/plain": [
              "-122.290    111\n",
              "-122.362     99\n",
              "-122.372     93\n",
              "-122.300     93\n",
              "-122.288     92\n",
              "           ... \n",
              "-121.947      1\n",
              "-122.440      1\n",
              "-122.499      1\n",
              "-121.788      1\n",
              "-121.731      1\n",
              "Name: long, Length: 742, dtype: int64"
            ]
          },
          "metadata": {},
          "execution_count": 33
        }
      ]
    },
    {
      "cell_type": "code",
      "source": [
        "housing['date'] = housing['date'].str.replace(\"T\",\"0\").astype(int)\n",
        "housing['date']"
      ],
      "metadata": {
        "id": "UPV6b_7qRy85",
        "outputId": "8ad744ed-bb46-4fd6-9bdd-8eac1012714f",
        "colab": {
          "base_uri": "https://localhost:8080/"
        }
      },
      "execution_count": 34,
      "outputs": [
        {
          "output_type": "execute_result",
          "data": {
            "text/plain": [
              "0        201411040000000\n",
              "1        201501150000000\n",
              "2        201410140000000\n",
              "3        201412080000000\n",
              "4        201408150000000\n",
              "              ...       \n",
              "19995    201411130000000\n",
              "19996    201411110000000\n",
              "19997    201409300000000\n",
              "19998    201406200000000\n",
              "19999    201503250000000\n",
              "Name: date, Length: 19999, dtype: int64"
            ]
          },
          "metadata": {},
          "execution_count": 34
        }
      ]
    },
    {
      "cell_type": "code",
      "source": [
        "features = ['date', 'apartments', 'distance', 'bedrooms','bathrooms', 'sqft_lot', 'floors','condition','sqft_above','sqft_basement','yr_built','zipcode','sqft_living15', 'sqft_lot15', 'grade', 'sqft_living', 'view', 'waterfront','lat','long', 'id', 'yr_renovated']\n",
        "X = housing[features]\n",
        "y = housing['price']\n",
        "\n",
        "buildTrainTestPrintModel(X, y)"
      ],
      "metadata": {
        "id": "k0mZXMLxRTkB",
        "outputId": "351172ba-d51e-4564-b29e-3b7c399f4f11",
        "colab": {
          "base_uri": "https://localhost:8080/"
        }
      },
      "execution_count": 35,
      "outputs": [
        {
          "output_type": "stream",
          "name": "stdout",
          "text": [
            "True     9527\n",
            "False    5472\n",
            "Name: price, dtype: int64\n"
          ]
        }
      ]
    },
    {
      "cell_type": "code",
      "source": [
        "features = ['date', 'apartments', 'distance', 'bedrooms','bathrooms', 'sqft_lot', 'floors','condition','sqft_above','sqft_basement','yr_built','zipcode','sqft_living15', 'sqft_lot15', 'grade', 'sqft_living', 'view', 'waterfront','lat','long', 'yr_renovated']\n",
        "X = housing[features]\n",
        "y = housing['price']\n",
        "\n",
        "buildTrainTestPrintModel(X, y)"
      ],
      "metadata": {
        "id": "B6macawzTkNQ",
        "outputId": "7dfe027a-d230-4d84-e9cb-e28de842ece3",
        "colab": {
          "base_uri": "https://localhost:8080/"
        }
      },
      "execution_count": 36,
      "outputs": [
        {
          "output_type": "stream",
          "name": "stdout",
          "text": [
            "True     9535\n",
            "False    5464\n",
            "Name: price, dtype: int64\n"
          ]
        }
      ]
    },
    {
      "cell_type": "code",
      "source": [
        "features = ['date', 'apartments', 'distance', 'bedrooms','bathrooms', 'sqft_lot', 'floors','condition','sqft_above','sqft_basement','yr_built','sqft_living15', 'sqft_lot15', 'grade', 'sqft_living', 'view', 'waterfront','lat','long', 'zipcode', 'yr_renovated']\n",
        "X = housing[features]\n",
        "y = housing['price']\n",
        "\n",
        "buildTrainTestPrintModel(X, y)"
      ],
      "metadata": {
        "id": "nfzPEtNXTsY8",
        "outputId": "67cfecef-fc3e-45fd-a676-e447405de6b8",
        "colab": {
          "base_uri": "https://localhost:8080/"
        }
      },
      "execution_count": 37,
      "outputs": [
        {
          "output_type": "stream",
          "name": "stdout",
          "text": [
            "True     9497\n",
            "False    5502\n",
            "Name: price, dtype: int64\n"
          ]
        }
      ]
    },
    {
      "cell_type": "code",
      "source": [
        "features = ['grade', 'date', 'apartments', 'distance', 'bedrooms','bathrooms', 'sqft_lot', 'floors','condition','sqft_above','sqft_basement','yr_built','sqft_living15', 'sqft_lot15', 'sqft_living', 'view', 'waterfront','lat','long', 'zipcode', 'yr_renovated']\n",
        "X = housing[features]\n",
        "y = housing['price']\n",
        "\n",
        "buildTrainTestPrintModel(X, y)"
      ],
      "metadata": {
        "id": "ZVwVtkpFWITc",
        "outputId": "a8625dd6-96b5-420d-b353-bd0c8bda609f",
        "colab": {
          "base_uri": "https://localhost:8080/"
        }
      },
      "execution_count": 38,
      "outputs": [
        {
          "output_type": "stream",
          "name": "stdout",
          "text": [
            "True     9518\n",
            "False    5481\n",
            "Name: price, dtype: int64\n"
          ]
        }
      ]
    },
    {
      "cell_type": "code",
      "source": [
        "features = ['date', 'apartments', 'distance', 'bedrooms','bathrooms', 'sqft_lot', 'floors','condition','sqft_above','sqft_basement','yr_built','sqft_living15', 'sqft_lot15', 'sqft_living', 'view', 'waterfront','lat','long', 'zipcode', 'yr_renovated', 'grade']\n",
        "X = housing[features]\n",
        "y = housing['price']\n",
        "\n",
        "buildTrainTestPrintModel(X, y)"
      ],
      "metadata": {
        "id": "AcCG7vCOWlO3",
        "outputId": "f7194184-7815-41df-92dc-04cc76ef429a",
        "colab": {
          "base_uri": "https://localhost:8080/"
        }
      },
      "execution_count": 39,
      "outputs": [
        {
          "output_type": "stream",
          "name": "stdout",
          "text": [
            "True     9518\n",
            "False    5481\n",
            "Name: price, dtype: int64\n"
          ]
        }
      ]
    },
    {
      "cell_type": "code",
      "source": [
        "features = ['sqft_living', 'date', 'apartments', 'distance', 'bedrooms','bathrooms', 'sqft_lot', 'floors','condition','sqft_above','sqft_basement','yr_built','sqft_living15', 'sqft_lot15', 'view', 'waterfront','lat','long', 'zipcode', 'yr_renovated', 'grade']\n",
        "X = housing[features]\n",
        "y = housing['price']\n",
        "\n",
        "buildTrainTestPrintModel(X, y)"
      ],
      "metadata": {
        "id": "yLoYGklnW1m3",
        "outputId": "47d2adea-6432-48b7-82a0-226f28054453",
        "colab": {
          "base_uri": "https://localhost:8080/"
        }
      },
      "execution_count": 40,
      "outputs": [
        {
          "output_type": "stream",
          "name": "stdout",
          "text": [
            "True     9544\n",
            "False    5455\n",
            "Name: price, dtype: int64\n"
          ]
        }
      ]
    },
    {
      "cell_type": "code",
      "source": [
        "features = ['sqft_living', 'date', 'apartments', 'distance', 'bedrooms','bathrooms', 'sqft_lot', 'floors','condition','sqft_above','sqft_basement','yr_built','sqft_living15', 'sqft_lot15', 'view', 'waterfront','lat','long', 'zipcode', 'yr_renovated', 'grade']\n",
        "X = housing[features]\n",
        "y = housing['price']\n",
        "\n",
        "buildTrainTestPrintModel(X, y)"
      ],
      "metadata": {
        "id": "U2u2kMGxXR9e",
        "outputId": "6336facb-0178-430f-e8ab-ea7eebd55c0e",
        "colab": {
          "base_uri": "https://localhost:8080/"
        }
      },
      "execution_count": 41,
      "outputs": [
        {
          "output_type": "stream",
          "name": "stdout",
          "text": [
            "True     9544\n",
            "False    5455\n",
            "Name: price, dtype: int64\n"
          ]
        }
      ]
    },
    {
      "cell_type": "code",
      "source": [
        "housing = housing[housing['sqft_lot'] < 600000]\n",
        "features = ['date', 'apartments', 'distance', 'bedrooms','bathrooms', 'sqft_lot', 'floors','condition','sqft_above','sqft_basement','yr_built','sqft_living15', 'sqft_lot15', 'grade', 'sqft_living', 'view', 'waterfront','lat','long', 'zipcode', 'yr_renovated']\n",
        "X = housing[features]\n",
        "y = housing['price']\n",
        "\n",
        "buildTrainTestPrintModel(X, y)"
      ],
      "metadata": {
        "id": "GleynbhwUf5B",
        "outputId": "619f7f2a-a971-47ea-9958-bca73543f61c",
        "colab": {
          "base_uri": "https://localhost:8080/"
        }
      },
      "execution_count": 42,
      "outputs": [
        {
          "output_type": "stream",
          "name": "stdout",
          "text": [
            "True     9518\n",
            "False    5473\n",
            "Name: price, dtype: int64\n"
          ]
        }
      ]
    },
    {
      "cell_type": "code",
      "source": [
        "housing = housing[housing['sqft_living'] < 11000]\n",
        "features = ['date', 'apartments', 'distance', 'bedrooms','bathrooms', 'sqft_lot', 'floors','condition','sqft_above','sqft_basement','yr_built','sqft_living15', 'sqft_lot15', 'grade', 'sqft_living', 'view', 'waterfront','lat','long', 'zipcode', 'yr_renovated']\n",
        "X = housing[features]\n",
        "y = housing['price']\n",
        "\n",
        "buildTrainTestPrintModel(X, y)"
      ],
      "metadata": {
        "id": "Rfb9QWUuia6S",
        "outputId": "7afbfbff-ea8d-4179-b392-d8646be17a71",
        "colab": {
          "base_uri": "https://localhost:8080/"
        }
      },
      "execution_count": 43,
      "outputs": [
        {
          "output_type": "stream",
          "name": "stdout",
          "text": [
            "True     9355\n",
            "False    5634\n",
            "Name: price, dtype: int64\n"
          ]
        }
      ]
    },
    {
      "cell_type": "code",
      "source": [
        "housing = housing[housing['bathrooms'] < 7]\n",
        "features = ['date', 'apartments', 'distance', 'bedrooms','bathrooms', 'sqft_lot', 'floors','condition','sqft_above','sqft_basement','yr_built','sqft_living15', 'sqft_lot15', 'grade', 'sqft_living', 'view', 'waterfront','lat','long', 'zipcode', 'yr_renovated']\n",
        "X = housing[features]\n",
        "y = housing['price']\n",
        "\n",
        "buildTrainTestPrintModel(X, y)"
      ],
      "metadata": {
        "id": "XYhROB3Nh7Rj",
        "outputId": "19b5a5ce-bd98-40fd-e28d-cb5ff6a3361d",
        "colab": {
          "base_uri": "https://localhost:8080/"
        }
      },
      "execution_count": 44,
      "outputs": [
        {
          "output_type": "stream",
          "name": "stdout",
          "text": [
            "True     9592\n",
            "False    5396\n",
            "Name: price, dtype: int64\n"
          ]
        }
      ]
    },
    {
      "cell_type": "code",
      "source": [
        "features = ['apartments', 'distance', 'bedrooms','bathrooms', 'sqft_lot', 'floors','condition','sqft_above','sqft_basement','yr_built','sqft_living15', 'sqft_lot15', 'grade', 'sqft_living', 'view', 'waterfront','lat','long', 'zipcode', 'yr_renovated']\n",
        "\n",
        "sns.barplot(\n",
        "    x= model.feature_importances_,\n",
        "    y= features\n",
        ")"
      ],
      "metadata": {
        "id": "DMGSqktiOX-O",
        "outputId": "534375f2-5f8c-4d30-ffa4-af4d74a1089b",
        "colab": {
          "base_uri": "https://localhost:8080/",
          "height": 282
        }
      },
      "execution_count": 45,
      "outputs": [
        {
          "output_type": "execute_result",
          "data": {
            "text/plain": [
              "<matplotlib.axes._subplots.AxesSubplot at 0x7f63153269a0>"
            ]
          },
          "metadata": {},
          "execution_count": 45
        },
        {
          "output_type": "display_data",
          "data": {
            "text/plain": [
              "<Figure size 432x288 with 1 Axes>"
            ],
            "image/png": "[encoded data removed]"
          },
          "metadata": {
            "needs_background": "light"
          }
        }
      ]
    },
    {
      "cell_type": "code",
      "source": [
        "sns.scatterplot(\n",
        "    x= housing['price'],\n",
        "    y= housing['floors']\n",
        ")"
      ],
      "metadata": {
        "id": "uFlTotTgjHWV",
        "outputId": "ee06b399-b9cc-4fd0-e5d5-a999e5036129",
        "colab": {
          "base_uri": "https://localhost:8080/",
          "height": 296
        }
      },
      "execution_count": 46,
      "outputs": [
        {
          "output_type": "execute_result",
          "data": {
            "text/plain": [
              "<matplotlib.axes._subplots.AxesSubplot at 0x7f631564ed60>"
            ]
          },
          "metadata": {},
          "execution_count": 46
        },
        {
          "output_type": "display_data",
          "data": {
            "text/plain": [
              "<Figure size 432x288 with 1 Axes>"
            ],
            "image/png": "[encoded data removed]"
          },
          "metadata": {
            "needs_background": "light"
          }
        }
      ]
    },
    {
      "cell_type": "code",
      "source": [
        "sns.scatterplot(\n",
        "    x= housing['price'],\n",
        "    y= housing['sqft_living']\n",
        ")"
      ],
      "metadata": {
        "id": "AzO3gAtqVIMe",
        "outputId": "39824b56-e9b6-40e1-a523-afdb20290b8b",
        "colab": {
          "base_uri": "https://localhost:8080/",
          "height": 296
        }
      },
      "execution_count": 47,
      "outputs": [
        {
          "output_type": "execute_result",
          "data": {
            "text/plain": [
              "<matplotlib.axes._subplots.AxesSubplot at 0x7f6315645f40>"
            ]
          },
          "metadata": {},
          "execution_count": 47
        },
        {
          "output_type": "display_data",
          "data": {
            "text/plain": [
              "<Figure size 432x288 with 1 Axes>"
            ],
            "image/png": "[encoded data removed]"
          },
          "metadata": {
            "needs_background": "light"
          }
        }
      ]
    },
    {
      "cell_type": "code",
      "source": [
        "ax = sns.scatterplot(\n",
        "    x= housing['price'],\n",
        "    y= housing['sqft_lot']\n",
        ")\n",
        "\n",
        "ax.axes.set_title('Prices of Homes based on Lot\\'s Square Feet', fontsize=14)\n",
        "ax.axes.set_xlabel('Price per Million', fontsize=12)\n",
        "ax.axes.set_ylabel('Lot Square Feet', fontsize=12)"
      ],
      "metadata": {
        "id": "UpOP1Z6Ff2Gd",
        "outputId": "20aa695c-5553-46be-ec36-bce9b2417b3e",
        "colab": {
          "base_uri": "https://localhost:8080/",
          "height": 316
        }
      },
      "execution_count": 48,
      "outputs": [
        {
          "output_type": "execute_result",
          "data": {
            "text/plain": [
              "Text(0, 0.5, 'Lot Square Feet')"
            ]
          },
          "metadata": {},
          "execution_count": 48
        },
        {
          "output_type": "display_data",
          "data": {
            "text/plain": [
              "<Figure size 432x288 with 1 Axes>"
            ],
            "image/png": "[encoded data removed]"
          },
          "metadata": {
            "needs_background": "light"
          }
        }
      ]
    },
    {
      "cell_type": "markdown",
      "source": [
        "GRID SEARCH"
      ],
      "metadata": {
        "id": "24dxlcx8SaYQ"
      }
    },
    {
      "cell_type": "code",
      "source": [
        "housing['grade'].value_counts(normalize=True)"
      ],
      "metadata": {
        "id": "k_xXpjm9YvAu",
        "outputId": "0d1fe2a7-db9b-4df0-ceb2-586a2918d110",
        "colab": {
          "base_uri": "https://localhost:8080/"
        }
      },
      "execution_count": 49,
      "outputs": [
        {
          "output_type": "execute_result",
          "data": {
            "text/plain": [
              "7     0.416633\n",
              "8     0.279974\n",
              "9     0.121347\n",
              "6     0.094075\n",
              "10    0.052692\n",
              "11    0.018215\n",
              "5     0.010859\n",
              "12    0.004103\n",
              "4     0.001401\n",
              "13    0.000500\n",
              "3     0.000150\n",
              "1     0.000050\n",
              "Name: grade, dtype: float64"
            ]
          },
          "metadata": {},
          "execution_count": 49
        }
      ]
    },
    {
      "cell_type": "code",
      "source": [
        "grade_homes = housing[housing['grade'] == 7]\n",
        "grade_homes['price'].value_counts()"
      ],
      "metadata": {
        "id": "pFdJGts3ZN7c",
        "outputId": "ab7522b1-9432-4f4b-babf-e2a13c15c639",
        "colab": {
          "base_uri": "https://localhost:8080/"
        }
      },
      "execution_count": 50,
      "outputs": [
        {
          "output_type": "execute_result",
          "data": {
            "text/plain": [
              "350000.0    92\n",
              "425000.0    86\n",
              "325000.0    85\n",
              "400000.0    80\n",
              "450000.0    79\n",
              "            ..\n",
              "671500.0     1\n",
              "369300.0     1\n",
              "267345.0     1\n",
              "239999.0     1\n",
              "139950.0     1\n",
              "Name: price, Length: 1819, dtype: int64"
            ]
          },
          "metadata": {},
          "execution_count": 50
        }
      ]
    },
    {
      "cell_type": "code",
      "source": [
        "within = {\n",
        "    'Within 5 percent': 35.802469, \n",
        "    'Within 10 percent': 55.555556,\n",
        "    'Within 20 percent': 81.481481\n",
        "    }\n",
        "\n",
        "keys = list(within.keys())\n",
        "\n",
        "vals = [within[k] for k in keys]\n",
        "\n",
        "ax = sns.barplot(\n",
        "    x = keys,\n",
        "    y = vals\n",
        ")\n",
        "ax.set_title('Predictions Within Target Price Range', fontsize=14)\n",
        "ax.set_xlabel('Housing Price', fontsize=14)\n",
        "ax.set_ylabel('Percent (%)', fontsize=14)"
      ],
      "metadata": {
        "id": "cQqCBJ5Yi4gQ",
        "outputId": "2e288a7b-9317-47eb-8772-ce77f1881650",
        "colab": {
          "base_uri": "https://localhost:8080/",
          "height": 317
        }
      },
      "execution_count": 51,
      "outputs": [
        {
          "output_type": "execute_result",
          "data": {
            "text/plain": [
              "Text(0, 0.5, 'Percent (%)')"
            ]
          },
          "metadata": {},
          "execution_count": 51
        },
        {
          "output_type": "display_data",
          "data": {
            "text/plain": [
              "<Figure size 432x288 with 1 Axes>"
            ],
            "image/png": "[encoded data removed]"
          },
          "metadata": {
            "needs_background": "light"
          }
        }
      ]
    },
    {
      "cell_type": "code",
      "source": [
        "# mini_holdout = pd.read_csv('https://raw.githubusercontent.com/byui-cse/cse450-course/master/data/housing_holdout_test_mini.csv')\n",
        "# mini_holdout.drop('date', axis=1, inplace=True)\n",
        "# mini_holdout[\"distance\"] = ((center_lat - mini_holdout[\"lat\"])**2 + (center_long - mini_holdout[\"long\"])**2)**.05\n",
        "# mini_predictions = model.predict(mini_holdout)\n",
        "\n",
        "# df = pd.DataFrame()\n",
        "# df['predictions'] = mini_predictions\n",
        "\n",
        "# # # Test it \n",
        "# #clf.score(X_test, y_test)\n",
        "# #df['predictions'].value_counts()\n",
        "# df['predictions'].value_counts()\n",
        "\n",
        "\n",
        "# from pathlib import Path  \n",
        "# filepath = Path('Main/team1-module2-predictions.csv')  \n",
        "# filepath.parent.mkdir(parents=True, exist_ok=True)  \n",
        "# df.to_csv(filepath)\n"
      ],
      "metadata": {
        "id": "o8EnUeaU96qt"
      },
      "execution_count": 52,
      "outputs": []
    }
  ]
}